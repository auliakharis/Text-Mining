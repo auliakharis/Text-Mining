{
 "cells": [
  {
   "cell_type": "code",
   "execution_count": 1,
   "id": "quantitative-badge",
   "metadata": {
    "_cell_guid": "b1076dfc-b9ad-4769-8c92-a6c4dae69d19",
    "_uuid": "8f2839f25d086af736a60e9eeb907d3b93b6e0e5",
    "execution": {
     "iopub.execute_input": "2021-04-02T02:49:59.995955Z",
     "iopub.status.busy": "2021-04-02T02:49:59.995393Z",
     "iopub.status.idle": "2021-04-02T02:50:00.008159Z",
     "shell.execute_reply": "2021-04-02T02:50:00.008717Z"
    },
    "papermill": {
     "duration": 0.031543,
     "end_time": "2021-04-02T02:50:00.009022",
     "exception": false,
     "start_time": "2021-04-02T02:49:59.977479",
     "status": "completed"
    },
    "tags": []
   },
   "outputs": [
    {
     "name": "stdout",
     "output_type": "stream",
     "text": [
      "/kaggle/input/datavidia/sample_submission.csv\n",
      "/kaggle/input/datavidia/train.csv\n",
      "/kaggle/input/datavidia/test.csv\n"
     ]
    }
   ],
   "source": [
    "# This Python 3 environment comes with many helpful analytics libraries installed\n",
    "# It is defined by the kaggle/python Docker image: https://github.com/kaggle/docker-python\n",
    "# For example, here's several helpful packages to load\n",
    "\n",
    "import numpy as np # linear algebra\n",
    "import pandas as pd # data processing, CSV file I/O (e.g. pd.read_csv)\n",
    "\n",
    "# Input data files are available in the read-only \"../input/\" directory\n",
    "# For example, running this (by clicking run or pressing Shift+Enter) will list all files under the input directory\n",
    "\n",
    "import os\n",
    "for dirname, _, filenames in os.walk('/kaggle/input'):\n",
    "    for filename in filenames:\n",
    "        print(os.path.join(dirname, filename))\n",
    "\n",
    "# You can write up to 20GB to the current directory (/kaggle/working/) that gets preserved as output when you create a version using \"Save & Run All\" \n",
    "# You can also write temporary files to /kaggle/temp/, but they won't be saved outside of the current session"
   ]
  },
  {
   "cell_type": "code",
   "execution_count": 2,
   "id": "connected-ordering",
   "metadata": {
    "execution": {
     "iopub.execute_input": "2021-04-02T02:50:00.035852Z",
     "iopub.status.busy": "2021-04-02T02:50:00.035221Z",
     "iopub.status.idle": "2021-04-02T02:50:00.038284Z",
     "shell.execute_reply": "2021-04-02T02:50:00.037623Z"
    },
    "papermill": {
     "duration": 0.018223,
     "end_time": "2021-04-02T02:50:00.038442",
     "exception": false,
     "start_time": "2021-04-02T02:50:00.020219",
     "status": "completed"
    },
    "tags": []
   },
   "outputs": [],
   "source": [
    "import pandas as pd"
   ]
  },
  {
   "cell_type": "code",
   "execution_count": null,
   "id": "strange-distance",
   "metadata": {
    "papermill": {
     "duration": 0.010395,
     "end_time": "2021-04-02T02:50:00.059341",
     "exception": false,
     "start_time": "2021-04-02T02:50:00.048946",
     "status": "completed"
    },
    "tags": []
   },
   "outputs": [],
   "source": []
  },
  {
   "cell_type": "code",
   "execution_count": null,
   "id": "independent-resident",
   "metadata": {
    "papermill": {
     "duration": 0.01061,
     "end_time": "2021-04-02T02:50:00.080920",
     "exception": false,
     "start_time": "2021-04-02T02:50:00.070310",
     "status": "completed"
    },
    "tags": []
   },
   "outputs": [],
   "source": []
  },
  {
   "cell_type": "code",
   "execution_count": 3,
   "id": "charming-anthony",
   "metadata": {
    "execution": {
     "iopub.execute_input": "2021-04-02T02:50:00.107280Z",
     "iopub.status.busy": "2021-04-02T02:50:00.106687Z",
     "iopub.status.idle": "2021-04-02T02:50:00.233927Z",
     "shell.execute_reply": "2021-04-02T02:50:00.234441Z"
    },
    "papermill": {
     "duration": 0.143124,
     "end_time": "2021-04-02T02:50:00.234653",
     "exception": false,
     "start_time": "2021-04-02T02:50:00.091529",
     "status": "completed"
    },
    "tags": []
   },
   "outputs": [],
   "source": [
    "df = pd.read_csv(\"/kaggle/input/datavidia/train.csv\")\n",
    "df_test = pd.read_csv(\"../input/datavidia/test.csv\")"
   ]
  },
  {
   "cell_type": "code",
   "execution_count": 4,
   "id": "sustained-doctor",
   "metadata": {
    "execution": {
     "iopub.execute_input": "2021-04-02T02:50:00.259121Z",
     "iopub.status.busy": "2021-04-02T02:50:00.258368Z",
     "iopub.status.idle": "2021-04-02T02:50:00.284735Z",
     "shell.execute_reply": "2021-04-02T02:50:00.284237Z"
    },
    "papermill": {
     "duration": 0.039631,
     "end_time": "2021-04-02T02:50:00.284864",
     "exception": false,
     "start_time": "2021-04-02T02:50:00.245233",
     "status": "completed"
    },
    "tags": []
   },
   "outputs": [
    {
     "data": {
      "text/html": [
       "<div>\n",
       "<style scoped>\n",
       "    .dataframe tbody tr th:only-of-type {\n",
       "        vertical-align: middle;\n",
       "    }\n",
       "\n",
       "    .dataframe tbody tr th {\n",
       "        vertical-align: top;\n",
       "    }\n",
       "\n",
       "    .dataframe thead th {\n",
       "        text-align: right;\n",
       "    }\n",
       "</style>\n",
       "<table border=\"1\" class=\"dataframe\">\n",
       "  <thead>\n",
       "    <tr style=\"text-align: right;\">\n",
       "      <th></th>\n",
       "      <th>review_id</th>\n",
       "      <th>review_text</th>\n",
       "      <th>category</th>\n",
       "    </tr>\n",
       "  </thead>\n",
       "  <tbody>\n",
       "    <tr>\n",
       "      <th>0</th>\n",
       "      <td>0fc651bfdd38a3b4ba19ef9d0d1e92e3</td>\n",
       "      <td>Penginapannya rapi, bersih, suasana tenang, pe...</td>\n",
       "      <td>1</td>\n",
       "    </tr>\n",
       "    <tr>\n",
       "      <th>1</th>\n",
       "      <td>7d8cb2e465c5602e51c1ba8710e8ff16</td>\n",
       "      <td>wifi tidak sampai kamar, tidak tersedia heater...</td>\n",
       "      <td>0</td>\n",
       "    </tr>\n",
       "    <tr>\n",
       "      <th>2</th>\n",
       "      <td>1f4447c73e5e1aac462d05b0ecbd5a55</td>\n",
       "      <td>Lantai kamar mandi kotor, bau, dan seperti sdh...</td>\n",
       "      <td>0</td>\n",
       "    </tr>\n",
       "    <tr>\n",
       "      <th>3</th>\n",
       "      <td>b9aefbfb0debbfff43f8b268c82b43c0</td>\n",
       "      <td>Wc jorok.. Kasur tidak dibersihkan,, handuk ti...</td>\n",
       "      <td>0</td>\n",
       "    </tr>\n",
       "    <tr>\n",
       "      <th>4</th>\n",
       "      <td>e2afef18bd695fae43d4d53b8c547bd4</td>\n",
       "      <td>bocor lagi</td>\n",
       "      <td>0</td>\n",
       "    </tr>\n",
       "  </tbody>\n",
       "</table>\n",
       "</div>"
      ],
      "text/plain": [
       "                          review_id  \\\n",
       "0  0fc651bfdd38a3b4ba19ef9d0d1e92e3   \n",
       "1  7d8cb2e465c5602e51c1ba8710e8ff16   \n",
       "2  1f4447c73e5e1aac462d05b0ecbd5a55   \n",
       "3  b9aefbfb0debbfff43f8b268c82b43c0   \n",
       "4  e2afef18bd695fae43d4d53b8c547bd4   \n",
       "\n",
       "                                         review_text  category  \n",
       "0  Penginapannya rapi, bersih, suasana tenang, pe...         1  \n",
       "1  wifi tidak sampai kamar, tidak tersedia heater...         0  \n",
       "2  Lantai kamar mandi kotor, bau, dan seperti sdh...         0  \n",
       "3  Wc jorok.. Kasur tidak dibersihkan,, handuk ti...         0  \n",
       "4                                         bocor lagi         0  "
      ]
     },
     "execution_count": 4,
     "metadata": {},
     "output_type": "execute_result"
    }
   ],
   "source": [
    "df.head()"
   ]
  },
  {
   "cell_type": "code",
   "execution_count": 5,
   "id": "formed-tomato",
   "metadata": {
    "execution": {
     "iopub.execute_input": "2021-04-02T02:50:00.312196Z",
     "iopub.status.busy": "2021-04-02T02:50:00.311440Z",
     "iopub.status.idle": "2021-04-02T02:50:00.314335Z",
     "shell.execute_reply": "2021-04-02T02:50:00.313870Z"
    },
    "papermill": {
     "duration": 0.018585,
     "end_time": "2021-04-02T02:50:00.314471",
     "exception": false,
     "start_time": "2021-04-02T02:50:00.295886",
     "status": "completed"
    },
    "tags": []
   },
   "outputs": [],
   "source": [
    "bikes = ['trek', 'redline', 'giant']"
   ]
  },
  {
   "cell_type": "code",
   "execution_count": 6,
   "id": "hindu-empire",
   "metadata": {
    "execution": {
     "iopub.execute_input": "2021-04-02T02:50:00.342093Z",
     "iopub.status.busy": "2021-04-02T02:50:00.341439Z",
     "iopub.status.idle": "2021-04-02T02:50:00.345361Z",
     "shell.execute_reply": "2021-04-02T02:50:00.344668Z"
    },
    "papermill": {
     "duration": 0.019872,
     "end_time": "2021-04-02T02:50:00.345520",
     "exception": false,
     "start_time": "2021-04-02T02:50:00.325648",
     "status": "completed"
    },
    "tags": []
   },
   "outputs": [],
   "source": [
    "bikes[0]='Car'"
   ]
  },
  {
   "cell_type": "code",
   "execution_count": 7,
   "id": "knowing-elite",
   "metadata": {
    "execution": {
     "iopub.execute_input": "2021-04-02T02:50:00.372938Z",
     "iopub.status.busy": "2021-04-02T02:50:00.372230Z",
     "iopub.status.idle": "2021-04-02T02:50:00.379598Z",
     "shell.execute_reply": "2021-04-02T02:50:00.378940Z"
    },
    "papermill": {
     "duration": 0.021573,
     "end_time": "2021-04-02T02:50:00.379755",
     "exception": false,
     "start_time": "2021-04-02T02:50:00.358182",
     "status": "completed"
    },
    "tags": []
   },
   "outputs": [
    {
     "data": {
      "text/plain": [
       "['Car', 'redline', 'giant']"
      ]
     },
     "execution_count": 7,
     "metadata": {},
     "output_type": "execute_result"
    }
   ],
   "source": [
    "bikes"
   ]
  },
  {
   "cell_type": "code",
   "execution_count": 8,
   "id": "possible-proportion",
   "metadata": {
    "execution": {
     "iopub.execute_input": "2021-04-02T02:50:00.407903Z",
     "iopub.status.busy": "2021-04-02T02:50:00.407141Z",
     "iopub.status.idle": "2021-04-02T02:50:00.411121Z",
     "shell.execute_reply": "2021-04-02T02:50:00.410576Z"
    },
    "papermill": {
     "duration": 0.019836,
     "end_time": "2021-04-02T02:50:00.411254",
     "exception": false,
     "start_time": "2021-04-02T02:50:00.391418",
     "status": "completed"
    },
    "tags": []
   },
   "outputs": [
    {
     "name": "stdout",
     "output_type": "stream",
     "text": [
      "{'nama': 'Budi', 'umur': 20}\n"
     ]
    }
   ],
   "source": [
    "print({\"nama\":\"Budi\", 'umur':20})"
   ]
  },
  {
   "cell_type": "code",
   "execution_count": 9,
   "id": "animal-eleven",
   "metadata": {
    "execution": {
     "iopub.execute_input": "2021-04-02T02:50:00.440918Z",
     "iopub.status.busy": "2021-04-02T02:50:00.440260Z",
     "iopub.status.idle": "2021-04-02T02:50:00.445503Z",
     "shell.execute_reply": "2021-04-02T02:50:00.444885Z"
    },
    "papermill": {
     "duration": 0.021847,
     "end_time": "2021-04-02T02:50:00.445648",
     "exception": false,
     "start_time": "2021-04-02T02:50:00.423801",
     "status": "completed"
    },
    "tags": []
   },
   "outputs": [
    {
     "data": {
      "text/plain": [
       "pandas.core.frame.DataFrame"
      ]
     },
     "execution_count": 9,
     "metadata": {},
     "output_type": "execute_result"
    }
   ],
   "source": [
    "type(df)"
   ]
  },
  {
   "cell_type": "code",
   "execution_count": 10,
   "id": "acquired-angola",
   "metadata": {
    "execution": {
     "iopub.execute_input": "2021-04-02T02:50:00.491901Z",
     "iopub.status.busy": "2021-04-02T02:50:00.490979Z",
     "iopub.status.idle": "2021-04-02T02:50:00.496265Z",
     "shell.execute_reply": "2021-04-02T02:50:00.495723Z"
    },
    "papermill": {
     "duration": 0.038335,
     "end_time": "2021-04-02T02:50:00.496406",
     "exception": false,
     "start_time": "2021-04-02T02:50:00.458071",
     "status": "completed"
    },
    "tags": []
   },
   "outputs": [
    {
     "name": "stdout",
     "output_type": "stream",
     "text": [
      "<class 'pandas.core.frame.DataFrame'>\n",
      "RangeIndex: 14856 entries, 0 to 14855\n",
      "Data columns (total 3 columns):\n",
      " #   Column       Non-Null Count  Dtype \n",
      "---  ------       --------------  ----- \n",
      " 0   review_id    14856 non-null  object\n",
      " 1   review_text  14856 non-null  object\n",
      " 2   category     14856 non-null  int64 \n",
      "dtypes: int64(1), object(2)\n",
      "memory usage: 348.3+ KB\n"
     ]
    }
   ],
   "source": [
    "df.info()"
   ]
  },
  {
   "cell_type": "code",
   "execution_count": 11,
   "id": "suspended-allen",
   "metadata": {
    "execution": {
     "iopub.execute_input": "2021-04-02T02:50:00.534200Z",
     "iopub.status.busy": "2021-04-02T02:50:00.533452Z",
     "iopub.status.idle": "2021-04-02T02:50:00.538123Z",
     "shell.execute_reply": "2021-04-02T02:50:00.537628Z"
    },
    "papermill": {
     "duration": 0.029253,
     "end_time": "2021-04-02T02:50:00.538265",
     "exception": false,
     "start_time": "2021-04-02T02:50:00.509012",
     "status": "completed"
    },
    "tags": []
   },
   "outputs": [
    {
     "data": {
      "text/html": [
       "<div>\n",
       "<style scoped>\n",
       "    .dataframe tbody tr th:only-of-type {\n",
       "        vertical-align: middle;\n",
       "    }\n",
       "\n",
       "    .dataframe tbody tr th {\n",
       "        vertical-align: top;\n",
       "    }\n",
       "\n",
       "    .dataframe thead th {\n",
       "        text-align: right;\n",
       "    }\n",
       "</style>\n",
       "<table border=\"1\" class=\"dataframe\">\n",
       "  <thead>\n",
       "    <tr style=\"text-align: right;\">\n",
       "      <th></th>\n",
       "      <th>review_id</th>\n",
       "      <th>review_text</th>\n",
       "      <th>category</th>\n",
       "    </tr>\n",
       "  </thead>\n",
       "  <tbody>\n",
       "    <tr>\n",
       "      <th>0</th>\n",
       "      <td>0fc651bfdd38a3b4ba19ef9d0d1e92e3</td>\n",
       "      <td>Penginapannya rapi, bersih, suasana tenang, pe...</td>\n",
       "      <td>1</td>\n",
       "    </tr>\n",
       "    <tr>\n",
       "      <th>1</th>\n",
       "      <td>7d8cb2e465c5602e51c1ba8710e8ff16</td>\n",
       "      <td>wifi tidak sampai kamar, tidak tersedia heater...</td>\n",
       "      <td>0</td>\n",
       "    </tr>\n",
       "    <tr>\n",
       "      <th>2</th>\n",
       "      <td>1f4447c73e5e1aac462d05b0ecbd5a55</td>\n",
       "      <td>Lantai kamar mandi kotor, bau, dan seperti sdh...</td>\n",
       "      <td>0</td>\n",
       "    </tr>\n",
       "    <tr>\n",
       "      <th>3</th>\n",
       "      <td>b9aefbfb0debbfff43f8b268c82b43c0</td>\n",
       "      <td>Wc jorok.. Kasur tidak dibersihkan,, handuk ti...</td>\n",
       "      <td>0</td>\n",
       "    </tr>\n",
       "    <tr>\n",
       "      <th>4</th>\n",
       "      <td>e2afef18bd695fae43d4d53b8c547bd4</td>\n",
       "      <td>bocor lagi</td>\n",
       "      <td>0</td>\n",
       "    </tr>\n",
       "    <tr>\n",
       "      <th>...</th>\n",
       "      <td>...</td>\n",
       "      <td>...</td>\n",
       "      <td>...</td>\n",
       "    </tr>\n",
       "    <tr>\n",
       "      <th>14851</th>\n",
       "      <td>5ed96732e4f1e1e69dfb8669cf507587</td>\n",
       "      <td>kotor dan tidak ada wifi</td>\n",
       "      <td>0</td>\n",
       "    </tr>\n",
       "    <tr>\n",
       "      <th>14852</th>\n",
       "      <td>b0692bdf4926ee0d58c2d9a0f28b0d62</td>\n",
       "      <td>Kamar tidak bersih</td>\n",
       "      <td>0</td>\n",
       "    </tr>\n",
       "    <tr>\n",
       "      <th>14853</th>\n",
       "      <td>5217f5f284066f232d7b3c3bbd3cccd2</td>\n",
       "      <td>kamarnya terlalu kecil beberapa cm antara kasu...</td>\n",
       "      <td>0</td>\n",
       "    </tr>\n",
       "    <tr>\n",
       "      <th>14854</th>\n",
       "      <td>31ca5a04ccc0dae4eaafc91c9822bede</td>\n",
       "      <td>Wifinya sangat kurang memadai..</td>\n",
       "      <td>0</td>\n",
       "    </tr>\n",
       "    <tr>\n",
       "      <th>14855</th>\n",
       "      <td>aadb614310e5ceb79b4c68d14f8dab8a</td>\n",
       "      <td>Pelayan sangat sangat buruk. Dulu pelayan nya ...</td>\n",
       "      <td>0</td>\n",
       "    </tr>\n",
       "  </tbody>\n",
       "</table>\n",
       "<p>14856 rows × 3 columns</p>\n",
       "</div>"
      ],
      "text/plain": [
       "                              review_id  \\\n",
       "0      0fc651bfdd38a3b4ba19ef9d0d1e92e3   \n",
       "1      7d8cb2e465c5602e51c1ba8710e8ff16   \n",
       "2      1f4447c73e5e1aac462d05b0ecbd5a55   \n",
       "3      b9aefbfb0debbfff43f8b268c82b43c0   \n",
       "4      e2afef18bd695fae43d4d53b8c547bd4   \n",
       "...                                 ...   \n",
       "14851  5ed96732e4f1e1e69dfb8669cf507587   \n",
       "14852  b0692bdf4926ee0d58c2d9a0f28b0d62   \n",
       "14853  5217f5f284066f232d7b3c3bbd3cccd2   \n",
       "14854  31ca5a04ccc0dae4eaafc91c9822bede   \n",
       "14855  aadb614310e5ceb79b4c68d14f8dab8a   \n",
       "\n",
       "                                             review_text  category  \n",
       "0      Penginapannya rapi, bersih, suasana tenang, pe...         1  \n",
       "1      wifi tidak sampai kamar, tidak tersedia heater...         0  \n",
       "2      Lantai kamar mandi kotor, bau, dan seperti sdh...         0  \n",
       "3      Wc jorok.. Kasur tidak dibersihkan,, handuk ti...         0  \n",
       "4                                             bocor lagi         0  \n",
       "...                                                  ...       ...  \n",
       "14851                           kotor dan tidak ada wifi         0  \n",
       "14852                                 Kamar tidak bersih         0  \n",
       "14853  kamarnya terlalu kecil beberapa cm antara kasu...         0  \n",
       "14854                    Wifinya sangat kurang memadai..         0  \n",
       "14855  Pelayan sangat sangat buruk. Dulu pelayan nya ...         0  \n",
       "\n",
       "[14856 rows x 3 columns]"
      ]
     },
     "execution_count": 11,
     "metadata": {},
     "output_type": "execute_result"
    }
   ],
   "source": [
    "df"
   ]
  },
  {
   "cell_type": "code",
   "execution_count": 12,
   "id": "white-acceptance",
   "metadata": {
    "execution": {
     "iopub.execute_input": "2021-04-02T02:50:00.570086Z",
     "iopub.status.busy": "2021-04-02T02:50:00.569394Z",
     "iopub.status.idle": "2021-04-02T02:50:00.603775Z",
     "shell.execute_reply": "2021-04-02T02:50:00.603257Z"
    },
    "papermill": {
     "duration": 0.052351,
     "end_time": "2021-04-02T02:50:00.603908",
     "exception": false,
     "start_time": "2021-04-02T02:50:00.551557",
     "status": "completed"
    },
    "tags": []
   },
   "outputs": [
    {
     "data": {
      "text/html": [
       "<div>\n",
       "<style scoped>\n",
       "    .dataframe tbody tr th:only-of-type {\n",
       "        vertical-align: middle;\n",
       "    }\n",
       "\n",
       "    .dataframe tbody tr th {\n",
       "        vertical-align: top;\n",
       "    }\n",
       "\n",
       "    .dataframe thead th {\n",
       "        text-align: right;\n",
       "    }\n",
       "</style>\n",
       "<table border=\"1\" class=\"dataframe\">\n",
       "  <thead>\n",
       "    <tr style=\"text-align: right;\">\n",
       "      <th></th>\n",
       "      <th>review_id</th>\n",
       "      <th>review_text</th>\n",
       "      <th>category</th>\n",
       "    </tr>\n",
       "  </thead>\n",
       "  <tbody>\n",
       "    <tr>\n",
       "      <th>0</th>\n",
       "      <td>0fc651bfdd38a3b4ba19ef9d0d1e92e3</td>\n",
       "      <td>Penginapannya rapi, bersih, suasana tenang, pe...</td>\n",
       "      <td>1</td>\n",
       "    </tr>\n",
       "    <tr>\n",
       "      <th>7</th>\n",
       "      <td>b0a8cb904f0536dca57bd5be090e510c</td>\n",
       "      <td>Pelayanannya sangat baik,kmr yang bersih,menu ...</td>\n",
       "      <td>1</td>\n",
       "    </tr>\n",
       "    <tr>\n",
       "      <th>12</th>\n",
       "      <td>d6fd462ba09d87510ac1d767b68d1d68</td>\n",
       "      <td>Hotel bersih bgt...nyaman...kolam renang bersi...</td>\n",
       "      <td>1</td>\n",
       "    </tr>\n",
       "    <tr>\n",
       "      <th>13</th>\n",
       "      <td>0ce78b57274ab55b29860f62f16ebfbb</td>\n",
       "      <td>Roomnya bersih banget, lokasi strategis pusat ...</td>\n",
       "      <td>1</td>\n",
       "    </tr>\n",
       "    <tr>\n",
       "      <th>28</th>\n",
       "      <td>f95c715acd1912c10dbe0f27f3bbd81c</td>\n",
       "      <td>Kamar agak lembab, lokasi oke.</td>\n",
       "      <td>1</td>\n",
       "    </tr>\n",
       "    <tr>\n",
       "      <th>...</th>\n",
       "      <td>...</td>\n",
       "      <td>...</td>\n",
       "      <td>...</td>\n",
       "    </tr>\n",
       "    <tr>\n",
       "      <th>14799</th>\n",
       "      <td>28475dc9a3d9fd131e11265e6e97c9d8</td>\n",
       "      <td>Kamar yang bagus dan nyaman, untuk area parkir...</td>\n",
       "      <td>1</td>\n",
       "    </tr>\n",
       "    <tr>\n",
       "      <th>14806</th>\n",
       "      <td>ce8aa3b1086e8569058e9e806c71b121</td>\n",
       "      <td>Baik dan Murah saya sangat senang.</td>\n",
       "      <td>1</td>\n",
       "    </tr>\n",
       "    <tr>\n",
       "      <th>14825</th>\n",
       "      <td>f81df3b4a5842f1fad6e80b3a22394ea</td>\n",
       "      <td>No hot shower and hair dryer. Quite inconvenient</td>\n",
       "      <td>1</td>\n",
       "    </tr>\n",
       "    <tr>\n",
       "      <th>14840</th>\n",
       "      <td>d3d9c1482aea45c8e80d3d6e785096ca</td>\n",
       "      <td>very nice and balance with the cost</td>\n",
       "      <td>1</td>\n",
       "    </tr>\n",
       "    <tr>\n",
       "      <th>14846</th>\n",
       "      <td>84fa2a1f31b1af95e5562ebcc4caa82e</td>\n",
       "      <td>Keren sekali saya suka puas pokok nya</td>\n",
       "      <td>1</td>\n",
       "    </tr>\n",
       "  </tbody>\n",
       "</table>\n",
       "<p>2017 rows × 3 columns</p>\n",
       "</div>"
      ],
      "text/plain": [
       "                              review_id  \\\n",
       "0      0fc651bfdd38a3b4ba19ef9d0d1e92e3   \n",
       "7      b0a8cb904f0536dca57bd5be090e510c   \n",
       "12     d6fd462ba09d87510ac1d767b68d1d68   \n",
       "13     0ce78b57274ab55b29860f62f16ebfbb   \n",
       "28     f95c715acd1912c10dbe0f27f3bbd81c   \n",
       "...                                 ...   \n",
       "14799  28475dc9a3d9fd131e11265e6e97c9d8   \n",
       "14806  ce8aa3b1086e8569058e9e806c71b121   \n",
       "14825  f81df3b4a5842f1fad6e80b3a22394ea   \n",
       "14840  d3d9c1482aea45c8e80d3d6e785096ca   \n",
       "14846  84fa2a1f31b1af95e5562ebcc4caa82e   \n",
       "\n",
       "                                             review_text  category  \n",
       "0      Penginapannya rapi, bersih, suasana tenang, pe...         1  \n",
       "7      Pelayanannya sangat baik,kmr yang bersih,menu ...         1  \n",
       "12     Hotel bersih bgt...nyaman...kolam renang bersi...         1  \n",
       "13     Roomnya bersih banget, lokasi strategis pusat ...         1  \n",
       "28                        Kamar agak lembab, lokasi oke.         1  \n",
       "...                                                  ...       ...  \n",
       "14799  Kamar yang bagus dan nyaman, untuk area parkir...         1  \n",
       "14806                 Baik dan Murah saya sangat senang.         1  \n",
       "14825   No hot shower and hair dryer. Quite inconvenient         1  \n",
       "14840                very nice and balance with the cost         1  \n",
       "14846              Keren sekali saya suka puas pokok nya         1  \n",
       "\n",
       "[2017 rows x 3 columns]"
      ]
     },
     "execution_count": 12,
     "metadata": {},
     "output_type": "execute_result"
    }
   ],
   "source": [
    "df[df.category==1]"
   ]
  },
  {
   "cell_type": "code",
   "execution_count": 13,
   "id": "initial-balance",
   "metadata": {
    "execution": {
     "iopub.execute_input": "2021-04-02T02:50:00.638062Z",
     "iopub.status.busy": "2021-04-02T02:50:00.637436Z",
     "iopub.status.idle": "2021-04-02T02:50:00.640291Z",
     "shell.execute_reply": "2021-04-02T02:50:00.640832Z"
    },
    "papermill": {
     "duration": 0.023062,
     "end_time": "2021-04-02T02:50:00.641001",
     "exception": false,
     "start_time": "2021-04-02T02:50:00.617939",
     "status": "completed"
    },
    "tags": []
   },
   "outputs": [
    {
     "data": {
      "text/plain": [
       "0        0fc651bfdd38a3b4ba19ef9d0d1e92e3\n",
       "1        7d8cb2e465c5602e51c1ba8710e8ff16\n",
       "2        1f4447c73e5e1aac462d05b0ecbd5a55\n",
       "3        b9aefbfb0debbfff43f8b268c82b43c0\n",
       "4        e2afef18bd695fae43d4d53b8c547bd4\n",
       "                       ...               \n",
       "14851    5ed96732e4f1e1e69dfb8669cf507587\n",
       "14852    b0692bdf4926ee0d58c2d9a0f28b0d62\n",
       "14853    5217f5f284066f232d7b3c3bbd3cccd2\n",
       "14854    31ca5a04ccc0dae4eaafc91c9822bede\n",
       "14855    aadb614310e5ceb79b4c68d14f8dab8a\n",
       "Name: review_id, Length: 14856, dtype: object"
      ]
     },
     "execution_count": 13,
     "metadata": {},
     "output_type": "execute_result"
    }
   ],
   "source": [
    "df['review_id']"
   ]
  },
  {
   "cell_type": "code",
   "execution_count": 14,
   "id": "charged-pocket",
   "metadata": {
    "execution": {
     "iopub.execute_input": "2021-04-02T02:50:00.672046Z",
     "iopub.status.busy": "2021-04-02T02:50:00.671445Z",
     "iopub.status.idle": "2021-04-02T02:50:00.677732Z",
     "shell.execute_reply": "2021-04-02T02:50:00.678174Z"
    },
    "papermill": {
     "duration": 0.023459,
     "end_time": "2021-04-02T02:50:00.678358",
     "exception": false,
     "start_time": "2021-04-02T02:50:00.654899",
     "status": "completed"
    },
    "tags": []
   },
   "outputs": [
    {
     "data": {
      "text/plain": [
       "0        0fc651bfdd38a3b4ba19ef9d0d1e92e3\n",
       "1        7d8cb2e465c5602e51c1ba8710e8ff16\n",
       "2        1f4447c73e5e1aac462d05b0ecbd5a55\n",
       "3        b9aefbfb0debbfff43f8b268c82b43c0\n",
       "4        e2afef18bd695fae43d4d53b8c547bd4\n",
       "                       ...               \n",
       "14851    5ed96732e4f1e1e69dfb8669cf507587\n",
       "14852    b0692bdf4926ee0d58c2d9a0f28b0d62\n",
       "14853    5217f5f284066f232d7b3c3bbd3cccd2\n",
       "14854    31ca5a04ccc0dae4eaafc91c9822bede\n",
       "14855    aadb614310e5ceb79b4c68d14f8dab8a\n",
       "Name: review_id, Length: 14856, dtype: object"
      ]
     },
     "execution_count": 14,
     "metadata": {},
     "output_type": "execute_result"
    }
   ],
   "source": [
    "df.review_id"
   ]
  },
  {
   "cell_type": "code",
   "execution_count": 15,
   "id": "prostate-occasions",
   "metadata": {
    "execution": {
     "iopub.execute_input": "2021-04-02T02:50:00.710391Z",
     "iopub.status.busy": "2021-04-02T02:50:00.709765Z",
     "iopub.status.idle": "2021-04-02T02:50:00.719422Z",
     "shell.execute_reply": "2021-04-02T02:50:00.718888Z"
    },
    "papermill": {
     "duration": 0.026715,
     "end_time": "2021-04-02T02:50:00.719555",
     "exception": false,
     "start_time": "2021-04-02T02:50:00.692840",
     "status": "completed"
    },
    "tags": []
   },
   "outputs": [],
   "source": [
    "df_drop = df.drop(df.category,axis=0)"
   ]
  },
  {
   "cell_type": "code",
   "execution_count": 16,
   "id": "sustainable-configuration",
   "metadata": {
    "execution": {
     "iopub.execute_input": "2021-04-02T02:50:00.760825Z",
     "iopub.status.busy": "2021-04-02T02:50:00.759855Z",
     "iopub.status.idle": "2021-04-02T02:50:00.763813Z",
     "shell.execute_reply": "2021-04-02T02:50:00.764263Z"
    },
    "papermill": {
     "duration": 0.030556,
     "end_time": "2021-04-02T02:50:00.764425",
     "exception": false,
     "start_time": "2021-04-02T02:50:00.733869",
     "status": "completed"
    },
    "tags": []
   },
   "outputs": [
    {
     "data": {
      "text/html": [
       "<div>\n",
       "<style scoped>\n",
       "    .dataframe tbody tr th:only-of-type {\n",
       "        vertical-align: middle;\n",
       "    }\n",
       "\n",
       "    .dataframe tbody tr th {\n",
       "        vertical-align: top;\n",
       "    }\n",
       "\n",
       "    .dataframe thead th {\n",
       "        text-align: right;\n",
       "    }\n",
       "</style>\n",
       "<table border=\"1\" class=\"dataframe\">\n",
       "  <thead>\n",
       "    <tr style=\"text-align: right;\">\n",
       "      <th></th>\n",
       "      <th>review_id</th>\n",
       "      <th>review_text</th>\n",
       "      <th>category</th>\n",
       "    </tr>\n",
       "  </thead>\n",
       "  <tbody>\n",
       "    <tr>\n",
       "      <th>2</th>\n",
       "      <td>1f4447c73e5e1aac462d05b0ecbd5a55</td>\n",
       "      <td>Lantai kamar mandi kotor, bau, dan seperti sdh...</td>\n",
       "      <td>0</td>\n",
       "    </tr>\n",
       "    <tr>\n",
       "      <th>3</th>\n",
       "      <td>b9aefbfb0debbfff43f8b268c82b43c0</td>\n",
       "      <td>Wc jorok.. Kasur tidak dibersihkan,, handuk ti...</td>\n",
       "      <td>0</td>\n",
       "    </tr>\n",
       "    <tr>\n",
       "      <th>4</th>\n",
       "      <td>e2afef18bd695fae43d4d53b8c547bd4</td>\n",
       "      <td>bocor lagi</td>\n",
       "      <td>0</td>\n",
       "    </tr>\n",
       "    <tr>\n",
       "      <th>5</th>\n",
       "      <td>a45d79bde831ad1306adbd8ffb5d3d50</td>\n",
       "      <td>kebersihan, pelayanan, kerapihan</td>\n",
       "      <td>0</td>\n",
       "    </tr>\n",
       "    <tr>\n",
       "      <th>6</th>\n",
       "      <td>ecdf90bd55184829caae18e5423a2e53</td>\n",
       "      <td>saya hampir tidak bisa tidur krn bantal sangat...</td>\n",
       "      <td>0</td>\n",
       "    </tr>\n",
       "    <tr>\n",
       "      <th>...</th>\n",
       "      <td>...</td>\n",
       "      <td>...</td>\n",
       "      <td>...</td>\n",
       "    </tr>\n",
       "    <tr>\n",
       "      <th>14851</th>\n",
       "      <td>5ed96732e4f1e1e69dfb8669cf507587</td>\n",
       "      <td>kotor dan tidak ada wifi</td>\n",
       "      <td>0</td>\n",
       "    </tr>\n",
       "    <tr>\n",
       "      <th>14852</th>\n",
       "      <td>b0692bdf4926ee0d58c2d9a0f28b0d62</td>\n",
       "      <td>Kamar tidak bersih</td>\n",
       "      <td>0</td>\n",
       "    </tr>\n",
       "    <tr>\n",
       "      <th>14853</th>\n",
       "      <td>5217f5f284066f232d7b3c3bbd3cccd2</td>\n",
       "      <td>kamarnya terlalu kecil beberapa cm antara kasu...</td>\n",
       "      <td>0</td>\n",
       "    </tr>\n",
       "    <tr>\n",
       "      <th>14854</th>\n",
       "      <td>31ca5a04ccc0dae4eaafc91c9822bede</td>\n",
       "      <td>Wifinya sangat kurang memadai..</td>\n",
       "      <td>0</td>\n",
       "    </tr>\n",
       "    <tr>\n",
       "      <th>14855</th>\n",
       "      <td>aadb614310e5ceb79b4c68d14f8dab8a</td>\n",
       "      <td>Pelayan sangat sangat buruk. Dulu pelayan nya ...</td>\n",
       "      <td>0</td>\n",
       "    </tr>\n",
       "  </tbody>\n",
       "</table>\n",
       "<p>14854 rows × 3 columns</p>\n",
       "</div>"
      ],
      "text/plain": [
       "                              review_id  \\\n",
       "2      1f4447c73e5e1aac462d05b0ecbd5a55   \n",
       "3      b9aefbfb0debbfff43f8b268c82b43c0   \n",
       "4      e2afef18bd695fae43d4d53b8c547bd4   \n",
       "5      a45d79bde831ad1306adbd8ffb5d3d50   \n",
       "6      ecdf90bd55184829caae18e5423a2e53   \n",
       "...                                 ...   \n",
       "14851  5ed96732e4f1e1e69dfb8669cf507587   \n",
       "14852  b0692bdf4926ee0d58c2d9a0f28b0d62   \n",
       "14853  5217f5f284066f232d7b3c3bbd3cccd2   \n",
       "14854  31ca5a04ccc0dae4eaafc91c9822bede   \n",
       "14855  aadb614310e5ceb79b4c68d14f8dab8a   \n",
       "\n",
       "                                             review_text  category  \n",
       "2      Lantai kamar mandi kotor, bau, dan seperti sdh...         0  \n",
       "3      Wc jorok.. Kasur tidak dibersihkan,, handuk ti...         0  \n",
       "4                                             bocor lagi         0  \n",
       "5                       kebersihan, pelayanan, kerapihan         0  \n",
       "6      saya hampir tidak bisa tidur krn bantal sangat...         0  \n",
       "...                                                  ...       ...  \n",
       "14851                           kotor dan tidak ada wifi         0  \n",
       "14852                                 Kamar tidak bersih         0  \n",
       "14853  kamarnya terlalu kecil beberapa cm antara kasu...         0  \n",
       "14854                    Wifinya sangat kurang memadai..         0  \n",
       "14855  Pelayan sangat sangat buruk. Dulu pelayan nya ...         0  \n",
       "\n",
       "[14854 rows x 3 columns]"
      ]
     },
     "execution_count": 16,
     "metadata": {},
     "output_type": "execute_result"
    }
   ],
   "source": [
    "df_drop"
   ]
  }
 ],
 "metadata": {
  "kernelspec": {
   "display_name": "Python 3",
   "language": "python",
   "name": "python3"
  },
  "language_info": {
   "codemirror_mode": {
    "name": "ipython",
    "version": 3
   },
   "file_extension": ".py",
   "mimetype": "text/x-python",
   "name": "python",
   "nbconvert_exporter": "python",
   "pygments_lexer": "ipython3",
   "version": "3.7.9"
  },
  "papermill": {
   "default_parameters": {},
   "duration": 7.43754,
   "end_time": "2021-04-02T02:50:01.388148",
   "environment_variables": {},
   "exception": null,
   "input_path": "__notebook__.ipynb",
   "output_path": "__notebook__.ipynb",
   "parameters": {},
   "start_time": "2021-04-02T02:49:53.950608",
   "version": "2.3.2"
  }
 },
 "nbformat": 4,
 "nbformat_minor": 5
}
